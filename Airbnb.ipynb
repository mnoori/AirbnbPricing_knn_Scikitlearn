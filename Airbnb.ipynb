{
 "cells": [
  {
   "cell_type": "code",
   "execution_count": 84,
   "metadata": {},
   "outputs": [
    {
     "name": "stdout",
     "output_type": "stream",
     "text": [
      "host_response_rate                  92%\n",
      "host_acceptance_rate                91%\n",
      "host_listings_count                  26\n",
      "accommodates                          4\n",
      "room_type               Entire home/apt\n",
      "bedrooms                              1\n",
      "bathrooms                             1\n",
      "beds                                  2\n",
      "price                           $160.00\n",
      "cleaning_fee                    $115.00\n",
      "security_deposit                $100.00\n",
      "minimum_nights                        1\n",
      "maximum_nights                     1125\n",
      "number_of_reviews                     0\n",
      "latitude                          38.89\n",
      "longitude                      -77.0028\n",
      "city                         Washington\n",
      "zipcode                           20003\n",
      "state                                DC\n",
      "Name: 0, dtype: object\n"
     ]
    }
   ],
   "source": [
    "import pandas as pd\n",
    "import numpy as np\n",
    "\n",
    "dc_listings = pd.read_csv('dc_airbnb.csv')\n",
    "print(dc_listings.iloc[0])"
   ]
  },
  {
   "cell_type": "code",
   "execution_count": 87,
   "metadata": {},
   "outputs": [
    {
     "name": "stdout",
     "output_type": "stream",
     "text": [
      "56.965628356605684\n",
      "11970.823931256706\n"
     ]
    }
   ],
   "source": [
    "import warnings\n",
    "warnings.filterwarnings(\"ignore\")\n",
    "\n",
    "dc_listings['price']=dc_listings['price'].apply(str)\n",
    "stripped_commas = dc_listings['price'].str.replace(',', '') #remove commans\n",
    "stripped_dollars = stripped_commas.str.replace('$', '') #remove dollar sign\n",
    "dc_listings['price'] = stripped_dollars.astype('float') #convert to float\n",
    "dc_listings=dc_listings.loc[np.random.permutation(len(dc_listings))] #randomply changes the order of rows\n",
    "train_df = dc_listings.iloc[0:2792]\n",
    "test_df = dc_listings.iloc[2792:]\n",
    "\n",
    "def predict_price(new_listing):\n",
    "    ## DataFrame.copy() performs a deep copy\n",
    "    temp_df = train_df.copy()\n",
    "    temp_df['distance'] = temp_df['accommodates'].apply(lambda x: np.abs(x - new_listing)) #calculates the disatnce...\n",
    "    #...of our listing with accommodates column in the dataset\n",
    "    temp_df = temp_df.sort_values('distance') #sorts by distance\n",
    "    nearest_neighbor_prices = temp_df.iloc[0:5]['price'] \n",
    "    predicted_price = nearest_neighbor_prices.mean() #gets the average of price among first five with least distances\n",
    "    return(predicted_price)\n",
    "\n",
    "test_df['predicted_price']=test_df['accommodates'].apply(lambda x: predict_price(x))\n",
    "\n",
    "#now let's estimate the mean absolute error\n",
    "test_df['abs_error'] = np.absolute(test_df['predicted_price'] - test_df['price'])\n",
    "mae = test_df['abs_error'].mean()\n",
    "print(mae)\n",
    "\n",
    "#However, this does not show those predicted values that are way further away from the actual values.\n",
    "#We can use Mean Squared Error instead, as it squares the magnitude of error.\n",
    "test_df['sq_error'] = (test_df['predicted_price'] - test_df['price'])**2\n",
    "mae = test_df['sq_error'].mean()\n",
    "print(mae)"
   ]
  },
  {
   "cell_type": "markdown",
   "metadata": {},
   "source": [
    "We can't really say whether the calculated MSE is actually low or high. In fact, the units of this error is dollar squared, which makes it even harder to interpret intuitively. What can we do is to fit another model and measure the MSE for that model and then compare. \n",
    "\n",
    "Let's fit a model based on number of bathrooms."
   ]
  },
  {
   "cell_type": "code",
   "execution_count": 88,
   "metadata": {},
   "outputs": [
    {
     "name": "stdout",
     "output_type": "stream",
     "text": [
      "13990.16764769065\n"
     ]
    }
   ],
   "source": [
    "def predict_price(new_listing):\n",
    "    ## DataFrame.copy() performs a deep copy\n",
    "    temp_df = train_df.copy()\n",
    "    temp_df['distance'] = temp_df['bathrooms'].apply(lambda x: np.abs(x - new_listing)) #calculates the disatnce...\n",
    "    #...of our listing with bathrooms column in the dataset\n",
    "    temp_df = temp_df.sort_values('distance') #sorts by distance\n",
    "    nearest_neighbor_prices = temp_df.iloc[0:5]['price'] \n",
    "    predicted_price = nearest_neighbor_prices.mean() #gets the average of price among first five with least distances\n",
    "    return(predicted_price)\n",
    "\n",
    "test_df['predicted_price']=test_df['bathrooms'].apply(lambda x: predict_price(x))\n",
    "test_df['squared_error'] = (test_df['predicted_price'] - test_df['price'])**(2)\n",
    "mse = test_df['squared_error'].mean()\n",
    "print(mse)"
   ]
  },
  {
   "cell_type": "markdown",
   "metadata": {},
   "source": [
    "How about measuring the Root Mean Squared Error? it will be in the same units of our target variable."
   ]
  },
  {
   "cell_type": "code",
   "execution_count": 89,
   "metadata": {},
   "outputs": [
    {
     "name": "stdout",
     "output_type": "stream",
     "text": [
      "118.28003909236186\n"
     ]
    }
   ],
   "source": [
    "rmse = mse ** (1/2)\n",
    "print(rmse)"
   ]
  },
  {
   "cell_type": "markdown",
   "metadata": {},
   "source": [
    "\\$118 of error. This is too much, considering the listings are a couple of hundred dollars. There are two ways that we can achieve that goal:\n",
    "* include more attributes\n",
    "* increase k\n",
    "Let's look at including more attributes. But first, we'd like to remove columns that are non-numerical, non-ordinal, and do not have anything to do with living space."
   ]
  },
  {
   "cell_type": "code",
   "execution_count": 90,
   "metadata": {},
   "outputs": [
    {
     "name": "stdout",
     "output_type": "stream",
     "text": [
      "<class 'pandas.core.frame.DataFrame'>\n",
      "Int64Index: 3723 entries, 1693 to 1857\n",
      "Data columns (total 19 columns):\n",
      "host_response_rate      3289 non-null object\n",
      "host_acceptance_rate    3109 non-null object\n",
      "host_listings_count     3723 non-null int64\n",
      "accommodates            3723 non-null int64\n",
      "room_type               3723 non-null object\n",
      "bedrooms                3702 non-null float64\n",
      "bathrooms               3696 non-null float64\n",
      "beds                    3712 non-null float64\n",
      "price                   3723 non-null float64\n",
      "cleaning_fee            2335 non-null object\n",
      "security_deposit        1426 non-null object\n",
      "minimum_nights          3723 non-null int64\n",
      "maximum_nights          3723 non-null int64\n",
      "number_of_reviews       3723 non-null int64\n",
      "latitude                3723 non-null float64\n",
      "longitude               3723 non-null float64\n",
      "city                    3723 non-null object\n",
      "zipcode                 3714 non-null object\n",
      "state                   3723 non-null object\n",
      "dtypes: float64(6), int64(5), object(8)\n",
      "memory usage: 581.7+ KB\n"
     ]
    }
   ],
   "source": [
    "dc_listings.info()"
   ]
  },
  {
   "cell_type": "markdown",
   "metadata": {},
   "source": [
    "Host response rate might have something to do with the price, if we knew how to uniquely group living spaces to the hosts, we could use this information. For now, we will drop it.\n",
    "Zipcode, state, city, room_type are non numerical. Latitude and Longtitude are non-ordinal. We'll drop them as well."
   ]
  },
  {
   "cell_type": "code",
   "execution_count": 91,
   "metadata": {},
   "outputs": [
    {
     "name": "stdout",
     "output_type": "stream",
     "text": [
      "3723\n",
      "accommodates            0\n",
      "bedrooms               21\n",
      "bathrooms              27\n",
      "beds                   11\n",
      "price                   0\n",
      "cleaning_fee         1388\n",
      "security_deposit     2297\n",
      "minimum_nights          0\n",
      "maximum_nights          0\n",
      "number_of_reviews       0\n",
      "dtype: int64\n"
     ]
    }
   ],
   "source": [
    "drop_columns = ['room_type', 'city', 'state', 'latitude', 'longitude', 'zipcode', 'host_response_rate', 'host_acceptance_rate', 'host_listings_count']\n",
    "dc_listings_new = dc_listings.drop(drop_columns, axis=1)\n",
    "print(dc_listings_new.shape[0])\n",
    "print(dc_listings_new.isnull().sum())"
   ]
  },
  {
   "cell_type": "markdown",
   "metadata": {},
   "source": [
    "Number of missing values in bedrooms, bathrooms, and beds are trivial to overall observations. We can remove those rows.\n",
    "For cleaning fee and security deposit, the number of missing values are substaintial. We can't remove the rows as we will lose so much information in our dataset. Hence, we simply remove those two columns."
   ]
  },
  {
   "cell_type": "code",
   "execution_count": 92,
   "metadata": {
    "collapsed": true
   },
   "outputs": [],
   "source": [
    "dc_listings_new=dc_listings_new.drop(['cleaning_fee','security_deposit'],axis=1)"
   ]
  },
  {
   "cell_type": "code",
   "execution_count": 93,
   "metadata": {},
   "outputs": [
    {
     "name": "stdout",
     "output_type": "stream",
     "text": [
      "accommodates         0\n",
      "bedrooms             0\n",
      "bathrooms            0\n",
      "beds                 0\n",
      "price                0\n",
      "minimum_nights       0\n",
      "maximum_nights       0\n",
      "number_of_reviews    0\n",
      "dtype: int64\n"
     ]
    }
   ],
   "source": [
    "dc_listings_new=dc_listings_new.dropna(axis=0)\n",
    "print(dc_listings_new.isnull().sum())"
   ]
  },
  {
   "cell_type": "code",
   "execution_count": 94,
   "metadata": {},
   "outputs": [
    {
     "data": {
      "text/html": [
       "<div>\n",
       "<style>\n",
       "    .dataframe thead tr:only-child th {\n",
       "        text-align: right;\n",
       "    }\n",
       "\n",
       "    .dataframe thead th {\n",
       "        text-align: left;\n",
       "    }\n",
       "\n",
       "    .dataframe tbody tr th {\n",
       "        vertical-align: top;\n",
       "    }\n",
       "</style>\n",
       "<table border=\"1\" class=\"dataframe\">\n",
       "  <thead>\n",
       "    <tr style=\"text-align: right;\">\n",
       "      <th></th>\n",
       "      <th>accommodates</th>\n",
       "      <th>bedrooms</th>\n",
       "      <th>bathrooms</th>\n",
       "      <th>beds</th>\n",
       "      <th>price</th>\n",
       "      <th>minimum_nights</th>\n",
       "      <th>maximum_nights</th>\n",
       "      <th>number_of_reviews</th>\n",
       "    </tr>\n",
       "  </thead>\n",
       "  <tbody>\n",
       "    <tr>\n",
       "      <th>1693</th>\n",
       "      <td>2</td>\n",
       "      <td>1.0</td>\n",
       "      <td>1.5</td>\n",
       "      <td>1.0</td>\n",
       "      <td>140.0</td>\n",
       "      <td>2</td>\n",
       "      <td>1125</td>\n",
       "      <td>20</td>\n",
       "    </tr>\n",
       "    <tr>\n",
       "      <th>2546</th>\n",
       "      <td>4</td>\n",
       "      <td>1.0</td>\n",
       "      <td>1.0</td>\n",
       "      <td>2.0</td>\n",
       "      <td>115.0</td>\n",
       "      <td>2</td>\n",
       "      <td>90</td>\n",
       "      <td>59</td>\n",
       "    </tr>\n",
       "    <tr>\n",
       "      <th>728</th>\n",
       "      <td>2</td>\n",
       "      <td>1.0</td>\n",
       "      <td>1.0</td>\n",
       "      <td>1.0</td>\n",
       "      <td>149.0</td>\n",
       "      <td>4</td>\n",
       "      <td>109</td>\n",
       "      <td>8</td>\n",
       "    </tr>\n",
       "    <tr>\n",
       "      <th>1297</th>\n",
       "      <td>3</td>\n",
       "      <td>1.0</td>\n",
       "      <td>1.0</td>\n",
       "      <td>1.0</td>\n",
       "      <td>130.0</td>\n",
       "      <td>1</td>\n",
       "      <td>1125</td>\n",
       "      <td>7</td>\n",
       "    </tr>\n",
       "    <tr>\n",
       "      <th>1194</th>\n",
       "      <td>3</td>\n",
       "      <td>0.0</td>\n",
       "      <td>1.0</td>\n",
       "      <td>2.0</td>\n",
       "      <td>129.0</td>\n",
       "      <td>4</td>\n",
       "      <td>365</td>\n",
       "      <td>26</td>\n",
       "    </tr>\n",
       "  </tbody>\n",
       "</table>\n",
       "</div>"
      ],
      "text/plain": [
       "      accommodates  bedrooms  bathrooms  beds  price  minimum_nights  \\\n",
       "1693             2       1.0        1.5   1.0  140.0               2   \n",
       "2546             4       1.0        1.0   2.0  115.0               2   \n",
       "728              2       1.0        1.0   1.0  149.0               4   \n",
       "1297             3       1.0        1.0   1.0  130.0               1   \n",
       "1194             3       0.0        1.0   2.0  129.0               4   \n",
       "\n",
       "      maximum_nights  number_of_reviews  \n",
       "1693            1125                 20  \n",
       "2546              90                 59  \n",
       "728              109                  8  \n",
       "1297            1125                  7  \n",
       "1194             365                 26  "
      ]
     },
     "execution_count": 94,
     "metadata": {},
     "output_type": "execute_result"
    }
   ],
   "source": [
    "dc_listings_new.head()"
   ]
  },
  {
   "cell_type": "markdown",
   "metadata": {},
   "source": [
    "Well, the range of maximum nights and number of reviews are much larger than other feastures. This will lead to potential outsize effect on calculating the error. Hence, let's normalize the values. How? using standard normal distribution. why? to also account for distribution of data and at the same time, normalize it.\n",
    "\n",
    "x'=(x-mean)/sigma"
   ]
  },
  {
   "cell_type": "code",
   "execution_count": 95,
   "metadata": {},
   "outputs": [],
   "source": [
    "normalized_listings = (dc_listings_new - dc_listings_new.mean())/(dc_listings_new.std())\n",
    "#but we'd like for our target value to stay the same\n",
    "normalized_listings['price'] = dc_listings_new['price']"
   ]
  },
  {
   "cell_type": "markdown",
   "metadata": {},
   "source": [
    "### Model fitting\n",
    "#### Impact of number of attributes on model accuracy\n",
    "Now let's use Scikit-learn library for model fittiing"
   ]
  },
  {
   "cell_type": "code",
   "execution_count": 96,
   "metadata": {},
   "outputs": [
    {
     "name": "stdout",
     "output_type": "stream",
     "text": [
      "10727.8759954\n",
      "103.575460392\n"
     ]
    }
   ],
   "source": [
    "from sklearn.neighbors import KNeighborsRegressor #importing the class of K nearest neighbors\n",
    "from sklearn.metrics import mean_squared_error #importing the mean squared error function\n",
    "\n",
    "train_df = normalized_listings.iloc[0:2792] #75% trainiing set\n",
    "test_df = normalized_listings.iloc[2792:]\n",
    "features = ['accommodates', 'bedrooms', 'bathrooms', 'number_of_reviews'] #selecting our first batch of columns\n",
    "\n",
    "knn = KNeighborsRegressor(n_neighbors=5, algorithm='brute', metric='euclidean') #instatiating the class\n",
    "knn.fit(train_df[features], train_df['price']) #fit gets a matrix-like and a list-like arguments.\n",
    "predictions = knn.predict(test_df[features]) #predict takes the features of test dataset\n",
    "\n",
    "two_features_mse = mean_squared_error(test_df['price'], predictions) #takes two vectors\n",
    "two_features_rmse = two_features_mse ** (1/2)\n",
    "print(two_features_mse)\n",
    "print(two_features_rmse)"
   ]
  },
  {
   "cell_type": "code",
   "execution_count": 97,
   "metadata": {},
   "outputs": [
    {
     "name": "stdout",
     "output_type": "stream",
     "text": [
      "11098.9878953\n",
      "105.351734183\n"
     ]
    }
   ],
   "source": [
    "# Now let's test if we'd take all features\n",
    "\n",
    "features = train_df.columns.tolist()\n",
    "features.remove('price')\n",
    "\n",
    "knn = KNeighborsRegressor(n_neighbors=5, algorithm='brute', metric='euclidean')\n",
    "knn.fit(train_df[features], train_df['price'])\n",
    "predictions = knn.predict(test_df[features])\n",
    "\n",
    "two_features_mse = mean_squared_error(test_df['price'], predictions)\n",
    "two_features_rmse = two_features_mse ** (1/2)\n",
    "print(two_features_mse)\n",
    "print(two_features_rmse)"
   ]
  },
  {
   "cell_type": "markdown",
   "metadata": {},
   "source": [
    "#### Summary so far\n",
    "Adding more attributes generally decreasaes the model's error, and that is becuase the model looks for more similar observations to our case by looking at more attributes (and not just number of bedrooms per say). Also, we realized sometimes adding irrelavent attributes increases the error, so we should perform some \"feature selection\".\n",
    "\n",
    "#### Impact of k value on model accuracy (hyperparameter optimization)\n",
    "when we change the number features, we are changing the input data. Changing the k value keeps the data intact, and changes the behaviour of the model.\n",
    "\n",
    "First let's comfirm the impact of k on model accuracy using a grid search approach."
   ]
  },
  {
   "cell_type": "code",
   "execution_count": 98,
   "metadata": {},
   "outputs": [
    {
     "data": {
      "text/plain": [
       "[119.85618515309889,\n",
       " 105.9873186653064,\n",
       " 105.36669270571518,\n",
       " 105.02973670147584,\n",
       " 105.35173418285818]"
      ]
     },
     "execution_count": 98,
     "metadata": {},
     "output_type": "execute_result"
    }
   ],
   "source": [
    "#creating a subset of 5 values for k\n",
    "hyper_parms=list(range(5))\n",
    "hyper_parms=[x+1 for x in hyper_parms]\n",
    "\n",
    "rmse=[]\n",
    "for k in hyper_parms:\n",
    "    knn = KNeighborsRegressor(n_neighbors=k, algorithm='brute', metric='euclidean')\n",
    "    knn.fit(train_df[features], train_df['price'])\n",
    "    predictions = knn.predict(test_df[features])\n",
    "\n",
    "    two_features_mse = mean_squared_error(test_df['price'], predictions)\n",
    "    two_features_rmse = two_features_mse ** (1/2)\n",
    "    rmse.append(two_features_rmse)\n",
    "rmse"
   ]
  },
  {
   "cell_type": "markdown",
   "metadata": {},
   "source": [
    "Error is decreasing by increase in k"
   ]
  },
  {
   "cell_type": "code",
   "execution_count": 99,
   "metadata": {},
   "outputs": [
    {
     "data": {
      "text/plain": [
       "[119.85618515309889,\n",
       " 105.9873186653064,\n",
       " 105.36669270571518,\n",
       " 105.02973670147584,\n",
       " 105.35173418285818,\n",
       " 103.9371345979205,\n",
       " 102.58062742175066,\n",
       " 102.05360921181081,\n",
       " 103.21788390597581,\n",
       " 101.73282392141765,\n",
       " 102.04082067278486,\n",
       " 102.00627093690758,\n",
       " 102.33205154044087,\n",
       " 102.27945894184569,\n",
       " 102.54932215107173,\n",
       " 102.05030826084452,\n",
       " 101.91312801590448,\n",
       " 101.83773326950454,\n",
       " 101.88347093405439,\n",
       " 101.89773769651515]"
      ]
     },
     "execution_count": 99,
     "metadata": {},
     "output_type": "execute_result"
    }
   ],
   "source": [
    "#now let's create a subet of 20\n",
    "hyper_parms=[x for x in range(1,21)]\n",
    "\n",
    "rmse=[]\n",
    "for k in hyper_parms:\n",
    "    knn = KNeighborsRegressor(n_neighbors=k, algorithm='brute', metric='euclidean')\n",
    "    knn.fit(train_df[features], train_df['price'])\n",
    "    predictions = knn.predict(test_df[features])\n",
    "\n",
    "    two_features_mse = mean_squared_error(test_df['price'], predictions)\n",
    "    two_features_rmse = two_features_mse ** (1/2)\n",
    "    rmse.append(two_features_rmse)\n",
    "rmse"
   ]
  },
  {
   "cell_type": "code",
   "execution_count": 100,
   "metadata": {},
   "outputs": [
    {
     "data": {
      "text/plain": [
       "<matplotlib.collections.PathCollection at 0x116de2908>"
      ]
     },
     "execution_count": 100,
     "metadata": {},
     "output_type": "execute_result"
    },
    {
     "data": {
      "image/png": "[encoded data removed]",
      "text/plain": [
       "<matplotlib.figure.Figure at 0x1a25264e48>"
      ]
     },
     "metadata": {},
     "output_type": "display_data"
    }
   ],
   "source": [
    "import matplotlib.pyplot as plt\n",
    "%matplotlib inline\n",
    "\n",
    "plt.scatter(hyper_parms, rmse)"
   ]
  },
  {
   "cell_type": "markdown",
   "metadata": {},
   "source": [
    "Therefore, as can be seen, the optimum value for k is 8."
   ]
  },
  {
   "cell_type": "markdown",
   "metadata": {},
   "source": [
    "#### Holdout validation\n",
    "So far, we've been using train/test validation. Now we'd like to use holdout method. We divide dataset in two seperate equal size sets and swap train and test sets."
   ]
  },
  {
   "cell_type": "code",
   "execution_count": 103,
   "metadata": {},
   "outputs": [],
   "source": [
    "#shuffling the deck!\n",
    "shuffled_index = np.random.permutation(dc_listings.index)\n",
    "dc_listings = dc_listings.reindex(shuffled_index)\n",
    "\n",
    "split_one = dc_listings.iloc[0:1862] #50% of dataset\n",
    "split_two = dc_listings.iloc[1862:]"
   ]
  },
  {
   "cell_type": "code",
   "execution_count": 105,
   "metadata": {},
   "outputs": [
    {
     "data": {
      "text/plain": [
       "127.47882852165077"
      ]
     },
     "execution_count": 105,
     "metadata": {},
     "output_type": "execute_result"
    }
   ],
   "source": [
    "train_one = split_one\n",
    "test_one = split_two\n",
    "train_two = split_two\n",
    "test_two = split_one\n",
    "\n",
    "model=KNeighborsRegressor()\n",
    "model.fit(train_one[[\"accommodates\"]],train_one['price'])\n",
    "test_one['predicted_price']=model.predict(test_one[['accommodates']])\n",
    "rmse_one=mean_squared_error(test_one['price'],test_one['predicted_price'])**(1/2)\n",
    "\n",
    "model.fit(train_two[[\"accommodates\"]],train_two['price'])\n",
    "test_two['predicted_price']=model.predict(test_two[['accommodates']])\n",
    "rmse_two=mean_squared_error(test_two['price'],test_two['predicted_price'])**(1/2)\n",
    "\n",
    "avg_rmse=(rmse_one+rmse_two)/2\n",
    "avg_rmse"
   ]
  },
  {
   "cell_type": "markdown",
   "metadata": {},
   "source": [
    "Holdout validation is a subset of k-fold corss validation process. In k-fold, we break the data set in k segments and repeat the train-test process across all segments by first training the model on k-1 segments, and then testing them out on the kth segment."
   ]
  },
  {
   "cell_type": "code",
   "execution_count": 124,
   "metadata": {},
   "outputs": [
    {
     "data": {
      "text/plain": [
       "5.0    735\n",
       "4.0    734\n",
       "3.0    734\n",
       "2.0    734\n",
       "1.0    734\n",
       "Name: fold, dtype: int64"
      ]
     },
     "execution_count": 124,
     "metadata": {},
     "output_type": "execute_result"
    }
   ],
   "source": [
    "#here, we assign a fold value in a new column for each segment of dataset.\n",
    "fold=int(normalized_listings.shape[0]/5)\n",
    "for i in range(4):\n",
    "    normalized_listings.set_value(normalized_listings.index[(i*fold):((i+1)*fold)],'fold',i+1)\n",
    "\n",
    "normalized_listings.set_value(normalized_listings.index[4*fold:normalized_listings.shape[0]],'fold',5)\n",
    "normalized_listings['fold'].value_counts()"
   ]
  },
  {
   "cell_type": "code",
   "execution_count": 130,
   "metadata": {},
   "outputs": [
    {
     "name": "stdout",
     "output_type": "stream",
     "text": [
      "average error is:  108.642914877\n"
     ]
    }
   ],
   "source": [
    "features=normalized_listings.columns.tolist()\n",
    "features.remove('price')\n",
    "rmse=[]\n",
    "for fold in range(5):\n",
    "    test_df=normalized_listings[dc_listings['fold']==fold+1]\n",
    "    train_df=normalized_listings[normalized_listings['fold']!=fold+1]\n",
    "    model=KNeighborsRegressor()\n",
    "    model.fit(train_df[features],train_df['price'])\n",
    "    predictions=model.predict(test_df[features])\n",
    "    rmse.append(mean_squared_error(test_df['price'],predictions)**(1/2))\n",
    "\n",
    "print('average error is: ', np.mean(rmse))"
   ]
  },
  {
   "cell_type": "markdown",
   "metadata": {},
   "source": [
    "Here's the takeaway so far:\n",
    "* if we want to build a better k nearest neighbors model, we can use different features or alter k value.\n",
    "* to test our model performance, we can use k fold cross validation and select the proper number of folds.\n",
    "\n",
    "Next, we'd like to see how we can get advantage of Scikit learn libraries for handling corss-validation"
   ]
  },
  {
   "cell_type": "code",
   "execution_count": 132,
   "metadata": {},
   "outputs": [
    {
     "name": "stdout",
     "output_type": "stream",
     "text": [
      "114.080334234\n"
     ]
    }
   ],
   "source": [
    "from sklearn.model_selection import cross_val_score, KFold\n",
    "\n",
    "kf=KFold(5,shuffle=True,random_state=1) #k=5, shuffles throw observations, and random seed is set to 1 for future iterations.\n",
    "knn=KNeighborsRegressor()\n",
    "\n",
    "#following function takes the estimator (here knn),tarining features, target value, scoring method, and number of folds...\n",
    "#...number of folds (cv) can be a number or an instance of class KFold.\n",
    "mses=cross_val_score(knn,normalized_listings[features],normalized_listings['price'],scoring=\"neg_mean_squared_error\", cv=kf)\n",
    "avg_rmse=np.mean((abs(mses))**(1/2))\n",
    "print(avg_rmse)"
   ]
  },
  {
   "cell_type": "markdown",
   "metadata": {},
   "source": [
    "Now let's calculate the error for different amount of k"
   ]
  },
  {
   "cell_type": "code",
   "execution_count": 136,
   "metadata": {},
   "outputs": [
    {
     "data": {
      "text/plain": [
       "{3: 115.13480261235263,\n",
       " 6: 113.85660874631708,\n",
       " 9: 114.02915140765079,\n",
       " 12: 112.4722332131816,\n",
       " 15: 111.72909661296872,\n",
       " 18: 111.2685466406412,\n",
       " 21: 110.63619634098883,\n",
       " 24: 108.70864199780188,\n",
       " 27: 108.42046284960036,\n",
       " 30: 107.90891439358008}"
      ]
     },
     "execution_count": 136,
     "metadata": {},
     "output_type": "execute_result"
    }
   ],
   "source": [
    "folds=[(i+1)*3 for i in range(10)]\n",
    "avg_rmse={}\n",
    "for fold in folds:\n",
    "    kf=KFold(fold,shuffle=True,random_state=1)\n",
    "    knn=KNeighborsRegressor()\n",
    "    mses=cross_val_score(knn,normalized_listings[features],normalized_listings['price'],scoring=\"neg_mean_squared_error\", cv=kf)\n",
    "    avg_rmse[fold]=np.mean((abs(mses))**(1/2))\n",
    "\n",
    "avg_rmse"
   ]
  },
  {
   "cell_type": "code",
   "execution_count": null,
   "metadata": {
    "collapsed": true
   },
   "outputs": [],
   "source": []
  }
 ],
 "metadata": {
  "kernelspec": {
   "display_name": "Python 3",
   "language": "python",
   "name": "python3"
  },
  "language_info": {
   "codemirror_mode": {
    "name": "ipython",
    "version": 3
   },
   "file_extension": ".py",
   "mimetype": "text/x-python",
   "name": "python",
   "nbconvert_exporter": "python",
   "pygments_lexer": "ipython3",
   "version": "3.6.3"
  }
 },
 "nbformat": 4,
 "nbformat_minor": 2
}
